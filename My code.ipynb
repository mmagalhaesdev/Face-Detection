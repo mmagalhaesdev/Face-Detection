{
 "cells": [
  {
   "cell_type": "markdown",
   "id": "a788563f-b94e-43c4-84ce-e8ba29686734",
   "metadata": {},
   "source": [
    "# Face Detection com Opencv e Mediapipe"
   ]
  },
  {
   "cell_type": "markdown",
   "id": "749ba2af-1566-426e-b872-12c2da3797fb",
   "metadata": {},
   "source": [
    "### Importando o Opencv e Mediapipe"
   ]
  },
  {
   "cell_type": "code",
   "execution_count": 1,
   "id": "56f09b42-f8c3-4f88-91b9-6da687dbef4b",
   "metadata": {},
   "outputs": [],
   "source": [
    "import cv2\n",
    "import mediapipe as mp"
   ]
  },
  {
   "cell_type": "markdown",
   "id": "5e27a6c8-da01-4461-9706-d69d5474b367",
   "metadata": {},
   "source": [
    "### Defenindo variávies e inicializando o Opencv e Mediapipe"
   ]
  },
  {
   "cell_type": "code",
   "execution_count": 2,
   "id": "16db4b1a-d3ce-4966-a7d3-bf85f125b33e",
   "metadata": {},
   "outputs": [],
   "source": [
    "webcam = cv2.VideoCapture(0)\n",
    "detectar = mp.solutions.face_detection\n",
    "detector = detectar.FaceDetection()\n",
    "desenho = mp.solutions.drawing_utils"
   ]
  },
  {
   "cell_type": "markdown",
   "id": "636b6040-b875-4aa6-94cf-8a331db5a058",
   "metadata": {},
   "source": [
    "### Defenindo loop, ler informações da webcam e reconhecimento de rostos"
   ]
  },
  {
   "cell_type": "code",
   "execution_count": 3,
   "id": "8b356bb2-aed8-4052-8b79-9eb5be33110b",
   "metadata": {},
   "outputs": [],
   "source": [
    "while True:\n",
    "    #Ler informações da webcam\n",
    "    verificador,frame = webcam.read()\n",
    "\n",
    "    if not verificador:\n",
    "        break\n",
    "    #Detectar rostos\n",
    "    Lista_rosto = detector.process(frame)\n",
    "\n",
    "    if Lista_rosto.detections:\n",
    "        for x in Lista_rosto.detections:\n",
    "            desenho.draw_detection(frame, x)\n",
    "    #Mostrar janela da webcam\n",
    "    cv2.imshow(\"Face Detection\", frame)\n",
    "    #Encerrar programa quando clicar em esc\n",
    "    if cv2.waitKey(5) == 27:\n",
    "        break\n",
    "webcam.release()"
   ]
  }
 ],
 "metadata": {
  "kernelspec": {
   "display_name": "Python (mediapipe-env)",
   "language": "python",
   "name": "mediapipe-env"
  },
  "language_info": {
   "codemirror_mode": {
    "name": "ipython",
    "version": 3
   },
   "file_extension": ".py",
   "mimetype": "text/x-python",
   "name": "python",
   "nbconvert_exporter": "python",
   "pygments_lexer": "ipython3",
   "version": "3.10.18"
  }
 },
 "nbformat": 4,
 "nbformat_minor": 5
}
